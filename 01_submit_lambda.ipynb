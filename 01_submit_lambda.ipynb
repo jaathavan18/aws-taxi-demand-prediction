{
 "cells": [
  {
   "cell_type": "code",
   "execution_count": 1,
   "id": "a90dfcf9-99e1-4fcd-b396-04ab4036ef0d",
   "metadata": {},
   "outputs": [],
   "source": [
    "import boto3\n",
    "import json\n",
    "import time\n",
    "from datetime import datetime"
   ]
  },
  {
   "cell_type": "code",
   "execution_count": 2,
   "id": "b632b4d4-74c3-4829-8601-7ba506ee076e",
   "metadata": {},
   "outputs": [],
   "source": [
    "lambda_client = boto3.client('lambda')"
   ]
  },
  {
   "cell_type": "code",
   "execution_count": 3,
   "id": "f98da2a2-f1c0-41a8-b08e-8e0d13003d26",
   "metadata": {},
   "outputs": [],
   "source": [
    "function_name = 'raw_data_glue'"
   ]
  },
  {
   "cell_type": "code",
   "execution_count": 4,
   "id": "fd15678c-b35d-4f81-a446-e374b657cbb7",
   "metadata": {},
   "outputs": [],
   "source": [
    "#parameters\n",
    "year = 2023\n",
    "bucket_name = 'jaath-buckets-0491f6b4-2be4-4ab9-9aa2-c62891ad4a9c'\n",
    "s3_key_prefix = 'taxi/raw'\n",
    "glue_job_name = 'iadFilterAndTransform'"
   ]
  },
  {
   "cell_type": "code",
   "execution_count": 5,
   "id": "4a8ee7ad-f4d2-4dd7-8220-2f8b3bf8c91a",
   "metadata": {},
   "outputs": [
    {
     "name": "stdout",
     "output_type": "stream",
     "text": [
      "Starting lambda invocations at 2025-04-22 16:02:26\n"
     ]
    }
   ],
   "source": [
    "timestamp = datetime.now().strftime(\"%Y-%m-%d %H:%M:%S\")\n",
    "print(f\"Starting lambda invocations at {timestamp}\")"
   ]
  },
  {
   "cell_type": "code",
   "execution_count": 6,
   "id": "4a61d52e-6295-47e8-a6b9-a03c883ff445",
   "metadata": {},
   "outputs": [
    {
     "name": "stdout",
     "output_type": "stream",
     "text": [
      "\n",
      "Invoking Lambda for 2023-01...\n",
      "Status code: 200\n",
      "Response: {\n",
      "  \"statusCode\": 200,\n",
      "  \"body\": \"{\\\"fetch_result\\\": \\\"File already exists in S3: s3://jaath-buckets-0491f6b4-2be4-4ab9-9aa2-c62891ad4a9c/taxi/raw/year=2023/month=01/yellow_tripdata_2023-01.parquet\\\", \\\"glue_job\\\": \\\"Started Glue job iadFilterAndTransform with run ID: jr_a28b28cd7f7ebfb8fd9d96adc21b1cf95db05ab8e05770e31f1d1e8f14352410\\\"}\"\n",
      "}\n",
      "waiting % seconds before next invocation..\n",
      "\n",
      "Invoking Lambda for 2023-02...\n",
      "Status code: 200\n",
      "Response: {\n",
      "  \"statusCode\": 200,\n",
      "  \"body\": \"{\\\"fetch_result\\\": \\\"File already exists in S3: s3://jaath-buckets-0491f6b4-2be4-4ab9-9aa2-c62891ad4a9c/taxi/raw/year=2023/month=02/yellow_tripdata_2023-02.parquet\\\", \\\"glue_job\\\": \\\"Started Glue job iadFilterAndTransform with run ID: jr_233241da5cfc45bbfd96b60c1f64e6679b707882f02477a74f6eb07f196ba6b0\\\"}\"\n",
      "}\n",
      "waiting % seconds before next invocation..\n",
      "\n",
      "Invoking Lambda for 2023-03...\n",
      "Status code: 200\n",
      "Response: {\n",
      "  \"statusCode\": 200,\n",
      "  \"body\": \"{\\\"fetch_result\\\": \\\"File already exists in S3: s3://jaath-buckets-0491f6b4-2be4-4ab9-9aa2-c62891ad4a9c/taxi/raw/year=2023/month=03/yellow_tripdata_2023-03.parquet\\\", \\\"glue_job\\\": \\\"Started Glue job iadFilterAndTransform with run ID: jr_25ce1fb1ce0611cd309ba429eaa64e167c036ff6c80f786743e37b72fc5e6ac1\\\"}\"\n",
      "}\n",
      "waiting % seconds before next invocation..\n",
      "\n",
      "Invoking Lambda for 2023-04...\n",
      "Status code: 200\n",
      "Response: {\n",
      "  \"statusCode\": 200,\n",
      "  \"body\": \"{\\\"fetch_result\\\": \\\"File already exists in S3: s3://jaath-buckets-0491f6b4-2be4-4ab9-9aa2-c62891ad4a9c/taxi/raw/year=2023/month=04/yellow_tripdata_2023-04.parquet\\\", \\\"glue_job\\\": \\\"Started Glue job iadFilterAndTransform with run ID: jr_615517033c7b5659c30d4f97b93b4a86be0aa123fbd7141742e60fcf593940a5\\\"}\"\n",
      "}\n",
      "waiting % seconds before next invocation..\n",
      "\n",
      "Invoking Lambda for 2023-05...\n",
      "Status code: 200\n",
      "Response: {\n",
      "  \"statusCode\": 200,\n",
      "  \"body\": \"{\\\"fetch_result\\\": \\\"File already exists in S3: s3://jaath-buckets-0491f6b4-2be4-4ab9-9aa2-c62891ad4a9c/taxi/raw/year=2023/month=05/yellow_tripdata_2023-05.parquet\\\", \\\"glue_job\\\": \\\"Started Glue job iadFilterAndTransform with run ID: jr_d1812c95527a31940114a398d524f9f9e0c240f2f76ff7e7ff1b1ae7b59c7b0f\\\"}\"\n",
      "}\n",
      "waiting % seconds before next invocation..\n",
      "\n",
      "Invoking Lambda for 2023-06...\n",
      "Status code: 200\n",
      "Response: {\n",
      "  \"statusCode\": 200,\n",
      "  \"body\": \"{\\\"fetch_result\\\": \\\"File already exists in S3: s3://jaath-buckets-0491f6b4-2be4-4ab9-9aa2-c62891ad4a9c/taxi/raw/year=2023/month=06/yellow_tripdata_2023-06.parquet\\\", \\\"glue_job\\\": \\\"Started Glue job iadFilterAndTransform with run ID: jr_2e66dea4bdb58fe289af9aef9c61f6f4bc5319eaae2c5813f84bbf9a2fbfaf06\\\"}\"\n",
      "}\n",
      "waiting % seconds before next invocation..\n",
      "\n",
      "Invoking Lambda for 2023-07...\n",
      "Status code: 200\n",
      "Response: {\n",
      "  \"statusCode\": 200,\n",
      "  \"body\": \"{\\\"fetch_result\\\": \\\"File already exists in S3: s3://jaath-buckets-0491f6b4-2be4-4ab9-9aa2-c62891ad4a9c/taxi/raw/year=2023/month=07/yellow_tripdata_2023-07.parquet\\\", \\\"glue_job\\\": \\\"Started Glue job iadFilterAndTransform with run ID: jr_c25e6bd0d66391c71591f5fea857ba51b45607dcdeb660ce269d6397426c59e2\\\"}\"\n",
      "}\n",
      "waiting % seconds before next invocation..\n"
     ]
    },
    {
     "ename": "KeyboardInterrupt",
     "evalue": "",
     "output_type": "error",
     "traceback": [
      "\u001b[0;31m---------------------------------------------------------------------------\u001b[0m",
      "\u001b[0;31mKeyboardInterrupt\u001b[0m                         Traceback (most recent call last)",
      "Cell \u001b[0;32mIn[6], line 24\u001b[0m\n\u001b[1;32m     22\u001b[0m     \u001b[38;5;28;01mif\u001b[39;00m month \u001b[38;5;241m<\u001b[39m \u001b[38;5;241m12\u001b[39m:\n\u001b[1;32m     23\u001b[0m         \u001b[38;5;28mprint\u001b[39m(\u001b[38;5;124mf\u001b[39m\u001b[38;5;124m\"\u001b[39m\u001b[38;5;124mwaiting % seconds before next invocation..\u001b[39m\u001b[38;5;124m\"\u001b[39m)\n\u001b[0;32m---> 24\u001b[0m         \u001b[43mtime\u001b[49m\u001b[38;5;241;43m.\u001b[39;49m\u001b[43msleep\u001b[49m\u001b[43m(\u001b[49m\u001b[38;5;241;43m1\u001b[39;49m\u001b[43m)\u001b[49m\n\u001b[1;32m     25\u001b[0m \u001b[38;5;28mprint\u001b[39m(\u001b[38;5;124mf\u001b[39m\u001b[38;5;124m\"\u001b[39m\u001b[38;5;124mcompleted all lambda invocations at \u001b[39m\u001b[38;5;132;01m{\u001b[39;00mdatetime\u001b[38;5;241m.\u001b[39mnow()\u001b[38;5;241m.\u001b[39mstrftime(\u001b[38;5;124m\"\u001b[39m\u001b[38;5;124m%\u001b[39m\u001b[38;5;124mY-\u001b[39m\u001b[38;5;124m%\u001b[39m\u001b[38;5;124mm-\u001b[39m\u001b[38;5;132;01m%d\u001b[39;00m\u001b[38;5;124m \u001b[39m\u001b[38;5;124m%\u001b[39m\u001b[38;5;124mH:\u001b[39m\u001b[38;5;124m%\u001b[39m\u001b[38;5;124mM:\u001b[39m\u001b[38;5;124m%\u001b[39m\u001b[38;5;124mS\u001b[39m\u001b[38;5;124m\"\u001b[39m)\u001b[38;5;132;01m}\u001b[39;00m\u001b[38;5;124m\"\u001b[39m)\n",
      "\u001b[0;31mKeyboardInterrupt\u001b[0m: "
     ]
    }
   ],
   "source": [
    "#loop through all months of 2023\n",
    "for month in range(1,13):\n",
    "    payload = {\n",
    "        'year': year,\n",
    "        'month': month,\n",
    "        'bucket_name': bucket_name,\n",
    "        's3_key_prefix': s3_key_prefix,\n",
    "        'glue_job_name': glue_job_name\n",
    "    }\n",
    "    print(f\"\\nInvoking Lambda for {year}-{month:02d}...\")\n",
    "    try:\n",
    "        response = lambda_client.invoke(\n",
    "            FunctionName = function_name,\n",
    "            InvocationType = 'RequestResponse',\n",
    "            Payload = json.dumps(payload)\n",
    "        )\n",
    "        response_payload = json.loads(response['Payload'].read().decode())\n",
    "        print(f\"Status code: {response['StatusCode']}\")\n",
    "        print(f\"Response: {json.dumps(response_payload,indent=2)}\")\n",
    "    except Exception as e:\n",
    "        print(f\"Error invoking lambda for {year}-{month:02d}: {str(e)}\")\n",
    "    if month < 12:\n",
    "        print(f\"waiting % seconds before next invocation..\")\n",
    "        time.sleep(1)\n",
    "print(f\"completed all lambda invocations at {datetime.now().strftime(\"%Y-%m-%d %H:%M:%S\")}\")"
   ]
  },
  {
   "cell_type": "code",
   "execution_count": null,
   "id": "a211aa1b-c3e0-4a15-ae07-b35e9f918182",
   "metadata": {},
   "outputs": [],
   "source": []
  }
 ],
 "metadata": {
  "kernelspec": {
   "display_name": "Python 3 (ipykernel)",
   "language": "python",
   "name": "python3"
  },
  "language_info": {
   "codemirror_mode": {
    "name": "ipython",
    "version": 3
   },
   "file_extension": ".py",
   "mimetype": "text/x-python",
   "name": "python",
   "nbconvert_exporter": "python",
   "pygments_lexer": "ipython3",
   "version": "3.12.9"
  }
 },
 "nbformat": 4,
 "nbformat_minor": 5
}
