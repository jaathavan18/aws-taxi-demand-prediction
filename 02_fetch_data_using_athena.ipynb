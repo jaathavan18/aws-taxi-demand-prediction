{
 "cells": [
  {
   "cell_type": "code",
   "execution_count": 1,
   "id": "eb7d8b39-6885-41e6-a8d9-1405373887ce",
   "metadata": {},
   "outputs": [
    {
     "name": "stdout",
     "output_type": "stream",
     "text": [
      "Query results loaded into DataFrame with 999 rows\n",
      "  pickup_hour  pickup_location_id  rides month\n",
      "0  2023-01-01                 213      0    01\n",
      "1  2023-01-01                  42      2    01\n",
      "2  2023-01-01                 212      0    01\n",
      "3  2023-01-01                 210      0    01\n",
      "4  2023-01-01                   5      0    01\n"
     ]
    }
   ],
   "source": [
    "import boto3\n",
    "import pandas as pd\n",
    "import time\n",
    "\n",
    "# Initialize Athena client\n",
    "athena_client = boto3.client('athena')\n",
    "\n",
    "# Set your S3 output location where query results will be stored\n",
    "s3_output = 's3://jaath-buckets-0491f6b4-2be4-4ab9-9aa2-c62891ad4a9c/athena/'\n",
    "\n",
    "# Your query\n",
    "query = \"\"\"\n",
    "SELECT\n",
    "    pickup_hour,\n",
    "    pickup_location_id,\n",
    "    rides,\n",
    "    month\n",
    "FROM glue_transformed\n",
    "WHERE pickup_hour BETWEEN\n",
    "    '2023-01-01 00:00:00' AND\n",
    "    '2023-01-31 23:59:59'\n",
    "ORDER BY pickup_hour;\n",
    "\"\"\"\n",
    "\n",
    "# Start the query execution\n",
    "response = athena_client.start_query_execution(\n",
    "    QueryString=query,\n",
    "    QueryExecutionContext={\n",
    "        'Database': 'taxi_db_2324'\n",
    "    },\n",
    "    ResultConfiguration={\n",
    "        'OutputLocation': s3_output,\n",
    "    }\n",
    ")\n",
    "\n",
    "# Get the query execution ID\n",
    "query_execution_id = response['QueryExecutionId']\n",
    "\n",
    "# Wait for the query to complete\n",
    "state = 'RUNNING'\n",
    "while state in ['RUNNING', 'QUEUED']:\n",
    "    response = athena_client.get_query_execution(QueryExecutionId=query_execution_id)\n",
    "    state = response['QueryExecution']['Status']['State']\n",
    "    if state in ['RUNNING', 'QUEUED']:\n",
    "        time.sleep(1)\n",
    "\n",
    "# If query executed successfully, fetch the results\n",
    "if state == 'SUCCEEDED':\n",
    "    # Get the results\n",
    "    results = athena_client.get_query_results(QueryExecutionId=query_execution_id)\n",
    "\n",
    "    # Extract column names\n",
    "    columns = [col['Label'] for col in results['ResultSet']['ResultSetMetadata']['ColumnInfo']]\n",
    "\n",
    "    # Extract data rows\n",
    "    rows = []\n",
    "    for row in results['ResultSet']['Rows'][1:]:  # Skip the header row\n",
    "        data = [field.get('VarCharValue', '') for field in row['Data']]\n",
    "        rows.append(data)\n",
    "\n",
    "    # Create pandas DataFrame\n",
    "    df = pd.DataFrame(rows, columns=columns)\n",
    "\n",
    "    # Convert data types as needed\n",
    "    df['pickup_hour'] = pd.to_datetime(df['pickup_hour'])\n",
    "    df['pickup_location_id'] = df['pickup_location_id'].astype(int)\n",
    "    df['rides'] = df['rides'].astype(int)\n",
    "\n",
    "    print(f\"Query results loaded into DataFrame with {len(df)} rows\")\n",
    "    print(df.head())\n",
    "else:\n",
    "    print(f\"Query failed with state: {state}\")\n",
    "    print(response['QueryExecution']['Status']['StateChangeReason'])"
   ]
  },
  {
   "cell_type": "code",
   "execution_count": null,
   "id": "8061ee78-aaef-495e-919f-c0fdef465513",
   "metadata": {},
   "outputs": [],
   "source": []
  }
 ],
 "metadata": {
  "kernelspec": {
   "display_name": "Python 3 (ipykernel)",
   "language": "python",
   "name": "python3"
  },
  "language_info": {
   "codemirror_mode": {
    "name": "ipython",
    "version": 3
   },
   "file_extension": ".py",
   "mimetype": "text/x-python",
   "name": "python",
   "nbconvert_exporter": "python",
   "pygments_lexer": "ipython3",
   "version": "3.12.9"
  }
 },
 "nbformat": 4,
 "nbformat_minor": 5
}
